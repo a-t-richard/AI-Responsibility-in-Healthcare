{
 "cells": [
  {
   "cell_type": "code",
   "execution_count": 2,
   "id": "24574960",
   "metadata": {},
   "outputs": [],
   "source": [
    "import csv"
   ]
  },
  {
   "cell_type": "markdown",
   "id": "79195d5a",
   "metadata": {},
   "source": [
    "# Use Case 3: Automated Patient Allocation"
   ]
  },
  {
   "cell_type": "markdown",
   "id": "997ffcfe",
   "metadata": {},
   "source": [
    "This notebook is dedicated to the analysis of datasets for patient allocation in emergency departments.\n",
    "\n",
    "In this notebook, students will be allocated to load a synthetic dataset of false patients, to analyse them with statistics and or machine learning methodes, and to apply pre/post treatements if they want."
   ]
  },
  {
   "cell_type": "markdown",
   "id": "6f085b88",
   "metadata": {},
   "source": [
    "## Dataset"
   ]
  },
  {
   "cell_type": "markdown",
   "id": "1a868b64",
   "metadata": {},
   "source": [
    "To illustrate we’ll use a dataset containing the following variables:\n",
    "\n",
    "| Variable         | Description                                                   |\n",
    "|------------------|---------------------------------------------------------------|\n",
    "| Patient_ID       | Unique identifier for each patient                            |\n",
    "| Age              | Age of the patient (in years)                                 |\n",
    "| Weight           | Weight of the patient (in Kg)                                 |\n",
    "| Gender           | Gender of the patient (M/F/O)                                 |\n",
    "| Chief_Complaint  | Reason for the patient's visit to the emergency department    |\n",
    "| General_State    | General state of the patient according to the clinician (0-9) |\n",
    "| Dolor_Degree     | Dolor degree self-estimated by the patient (0-9)              |\n",
    "| Blood_Pressure   | Level of patient’s blood pressure (in mm Hg)                  |\n",
    "| Heart_Rate       | Heart rate of the patient (in beats per minute)               |\n",
    "| Respiratory_Rate | Respiratory rate of the patient (in breaths per minute)       |\n",
    "| Temperature      | Temperature of the patient (in Celsius degree)                |\n",
    "| Allocation       | TODO             |\n",
    "\n",
    "To use this dataset, we first need to load it from the file *UC3-dataset.csv*\n"
   ]
  },
  {
   "cell_type": "code",
   "execution_count": null,
   "id": "9ae228fb",
   "metadata": {},
   "outputs": [],
   "source": []
  },
  {
   "cell_type": "markdown",
   "id": "01c730d6",
   "metadata": {},
   "source": [
    "## Pre-analysis"
   ]
  },
  {
   "cell_type": "code",
   "execution_count": null,
   "id": "32d0420e",
   "metadata": {},
   "outputs": [],
   "source": [
    "# YOUR CODE HERE"
   ]
  }
 ],
 "metadata": {
  "kernelspec": {
   "display_name": "Python 3 (ipykernel)",
   "language": "python",
   "name": "python3"
  },
  "language_info": {
   "codemirror_mode": {
    "name": "ipython",
    "version": 3
   },
   "file_extension": ".py",
   "mimetype": "text/x-python",
   "name": "python",
   "nbconvert_exporter": "python",
   "pygments_lexer": "ipython3",
   "version": "3.11.2"
  }
 },
 "nbformat": 4,
 "nbformat_minor": 5
}

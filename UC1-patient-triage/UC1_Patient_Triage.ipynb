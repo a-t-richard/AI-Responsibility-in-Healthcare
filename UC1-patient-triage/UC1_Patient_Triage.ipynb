{
 "cells": [
  {
   "cell_type": "code",
   "execution_count": 2,
   "id": "8d713418",
   "metadata": {},
   "outputs": [],
   "source": [
    "import csv"
   ]
  },
  {
   "cell_type": "markdown",
   "id": "e828c74a",
   "metadata": {},
   "source": [
    "# Use Case 1: Patient Triage in the Emergency Room"
   ]
  },
  {
   "cell_type": "markdown",
   "id": "77e0e840",
   "metadata": {},
   "source": [
    "This notebook is dedicated to the analysis of datasets for patient triage in emergency departments.\n",
    "\n",
    "In this notebook, students will be allocated to load a synthetic dataset of false patients, to analyse them with statistics and or machine learning methodes, and to apply pre/post treatements if they want."
   ]
  },
  {
   "cell_type": "markdown",
   "id": "2da35b67",
   "metadata": {},
   "source": [
    "## Dataset"
   ]
  },
  {
   "cell_type": "markdown",
   "id": "6292f1eb",
   "metadata": {},
   "source": [
    "To illustrate we’ll use a dataset containing the following variables:\n",
    "\n",
    "| Variable         | Description                                                   |\n",
    "|------------------|---------------------------------------------------------------|\n",
    "| Patient_ID       | Unique identifier for each patient                            |\n",
    "| Age              | Age of the patient (in years)                                 |\n",
    "| Weight           | Weight of the patient (in Kg)                                 |\n",
    "| Gender           | Gender of the patient (M/F/O)                                 |\n",
    "| Chief_Complaint  | Reason for the patient's visit to the emergency department    |\n",
    "| General_State    | General state of the patient according to the clinician (0-9) |\n",
    "| Dolor_Degree     | Dolor degree self-estimated by the patient (0-9)              |\n",
    "| Blood_Pressure   | Level of patient’s blood pressure (in mm Hg)                  |\n",
    "| Heart_Rate       | Heart rate of the patient (in beats per minute)               |\n",
    "| Respiratory_Rate | Respiratory rate of the patient (in breaths per minute)       |\n",
    "| Temperature      | Temperature of the patient (in Celsius degree)                |\n",
    "| Triage_Priority  | The triage priority assigned to the patient (0-9)             |\n",
    "\n",
    "To use this dataset, we first need to load it from the file *UC1-dataset.csv*\n"
   ]
  },
  {
   "cell_type": "code",
   "execution_count": null,
   "id": "380302bf",
   "metadata": {},
   "outputs": [],
   "source": []
  },
  {
   "cell_type": "markdown",
   "id": "95cdcd57",
   "metadata": {},
   "source": [
    "## Pre-analysis"
   ]
  },
  {
   "cell_type": "code",
   "execution_count": null,
   "id": "ca68fd45",
   "metadata": {},
   "outputs": [],
   "source": [
    "# YOUR CODE HERE"
   ]
  }
 ],
 "metadata": {
  "kernelspec": {
   "display_name": "Python 3 (ipykernel)",
   "language": "python",
   "name": "python3"
  },
  "language_info": {
   "codemirror_mode": {
    "name": "ipython",
    "version": 3
   },
   "file_extension": ".py",
   "mimetype": "text/x-python",
   "name": "python",
   "nbconvert_exporter": "python",
   "pygments_lexer": "ipython3",
   "version": "3.11.2"
  }
 },
 "nbformat": 4,
 "nbformat_minor": 5
}
